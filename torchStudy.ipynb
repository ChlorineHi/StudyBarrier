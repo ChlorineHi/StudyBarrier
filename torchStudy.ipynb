{
 "cells": [
  {
   "cell_type": "code",
   "execution_count": 1,
   "metadata": {},
   "outputs": [],
   "source": [
    "import torch "
   ]
  },
  {
   "cell_type": "markdown",
   "metadata": {},
   "source": [
    "### dim使用方法"
   ]
  },
  {
   "cell_type": "code",
   "execution_count": 2,
   "metadata": {},
   "outputs": [
    {
     "data": {
      "text/plain": [
       "torch.Size([1, 4, 4])"
      ]
     },
     "execution_count": 2,
     "metadata": {},
     "output_type": "execute_result"
    }
   ],
   "source": [
    "a = torch.Tensor([[[1,2,3,4],\n",
    "    [5,6,7,8],\n",
    "    [9,10,11,12],\n",
    "    [13,14,15,16]]])\n",
    "b = torch.Tensor([[[1,2,3,4],\n",
    "    [5,6,7,8],\n",
    "    [9,10,11,12],\n",
    "    [13,14,15,16]]])\n",
    "a.shape"
   ]
  },
  {
   "cell_type": "code",
   "execution_count": 6,
   "metadata": {},
   "outputs": [
    {
     "data": {
      "text/plain": [
       "2"
      ]
     },
     "execution_count": 6,
     "metadata": {},
     "output_type": "execute_result"
    }
   ],
   "source": [
    "a = torch.Tensor([[1,2,3,4] ,\n",
    "    [5,6,7,8]])\n",
    "a.shape[0]\n"
   ]
  },
  {
   "cell_type": "code",
   "execution_count": 8,
   "metadata": {},
   "outputs": [
    {
     "data": {
      "text/plain": [
       "tensor([10., 26.])"
      ]
     },
     "execution_count": 8,
     "metadata": {},
     "output_type": "execute_result"
    }
   ],
   "source": [
    "s = torch.sum(a , dim=1)\n",
    "s"
   ]
  },
  {
   "cell_type": "markdown",
   "metadata": {},
   "source": [
    "### cat"
   ]
  },
  {
   "cell_type": "code",
   "execution_count": null,
   "metadata": {},
   "outputs": [],
   "source": []
  },
  {
   "cell_type": "code",
   "execution_count": 16,
   "metadata": {},
   "outputs": [
    {
     "data": {
      "text/plain": [
       "tensor([[1.0000, 1.0000, 0.9013, 0.7567, 0.9555],\n",
       "        [1.0000, 1.0000, 0.0697, 0.9187, 0.6566]])"
      ]
     },
     "execution_count": 16,
     "metadata": {},
     "output_type": "execute_result"
    }
   ],
   "source": [
    "A = torch.ones(2,2)\n",
    "B = torch.rand(2,3)\n",
    "torch.cat((A , B ) ,dim = 1)"
   ]
  },
  {
   "cell_type": "markdown",
   "metadata": {},
   "source": [
    "### unsqueeze\n",
    "自动去除1的向量值"
   ]
  },
  {
   "cell_type": "code",
   "execution_count": 23,
   "metadata": {},
   "outputs": [
    {
     "data": {
      "text/plain": [
       "torch.Size([2, 4, 3])"
      ]
     },
     "execution_count": 23,
     "metadata": {},
     "output_type": "execute_result"
    }
   ],
   "source": [
    "c = torch.tensor([[[1., 2., 4.],\n",
    "        [4., 5., 7.],\n",
    "        [3., 9., 8.],\n",
    "        [9., 6., 7.]] ,\n",
    "        [[1., 2., 4.],\n",
    "        [4., 5., 7.],\n",
    "        [3., 9., 8.],\n",
    "        [9., 6., 7.]]])\n",
    "c.shape"
   ]
  },
  {
   "cell_type": "code",
   "execution_count": 30,
   "metadata": {},
   "outputs": [
    {
     "data": {
      "text/plain": [
       "torch.Size([1, 4, 3])"
      ]
     },
     "execution_count": 30,
     "metadata": {},
     "output_type": "execute_result"
    }
   ],
   "source": [
    "d = torch.tensor([[[1., 2., 4.],\n",
    "        [4., 5., 7.],\n",
    "        [3., 9., 8.],\n",
    "        [9., 6., 7.]]])\n",
    "d.shape"
   ]
  },
  {
   "cell_type": "code",
   "execution_count": 31,
   "metadata": {},
   "outputs": [
    {
     "data": {
      "text/plain": [
       "torch.Size([4, 3])"
      ]
     },
     "execution_count": 31,
     "metadata": {},
     "output_type": "execute_result"
    }
   ],
   "source": [
    "b = c.squeeze(0)\n",
    "b.shape\n",
    "e = d.squeeze(0)\n",
    "e.shape"
   ]
  },
  {
   "cell_type": "markdown",
   "metadata": {},
   "source": [
    "### Tensorset"
   ]
  },
  {
   "cell_type": "code",
   "execution_count": 33,
   "metadata": {},
   "outputs": [
    {
     "name": "stdout",
     "output_type": "stream",
     "text": [
      "torch.Size([1, 4, 4])\n",
      "torch.Size([1, 4, 4])\n"
     ]
    },
    {
     "data": {
      "text/plain": [
       "<torch.utils.data.dataset.TensorDataset at 0x230b5c01ac0>"
      ]
     },
     "execution_count": 33,
     "metadata": {},
     "output_type": "execute_result"
    }
   ],
   "source": [
    "from torch.utils.data import DataLoader\n",
    "from torch.utils.data import TensorDataset\n",
    "\n",
    "a = torch.Tensor([[[1,2,3,4],\n",
    "    [5,6,7,8],\n",
    "    [9,10,11,12],\n",
    "    [13,14,15,16]]])\n",
    "b = torch.Tensor([[[1,2,3,4],\n",
    "    [5,6,7,8],\n",
    "    [9,10,11,12],\n",
    "    [13,14,15,16]]])\n",
    "dataset = TensorDataset(a , b)\n",
    "dataloader = DataLoader(dataset , batch_size=2 , shuffle=True)\n",
    "for x , y in dataloader:\n",
    "    print(x.shape)\n",
    "    print(y.shape)\n",
    "    break\n",
    "dataset"
   ]
  },
  {
   "cell_type": "code",
   "execution_count": 38,
   "metadata": {},
   "outputs": [
    {
     "name": "stdout",
     "output_type": "stream",
     "text": [
      "tensor([[-0.9430,  0.8002, -0.1742, -0.0616, -0.9550,  0.2951, -1.0719, -0.2283,\n",
      "          0.5249,  0.4522],\n",
      "        [-0.2087,  1.2640, -0.5390,  1.3979, -1.0033,  0.0926, -0.3388, -0.0264,\n",
      "          0.1840, -0.7783],\n",
      "        [-1.3138, -1.8671,  0.2491, -0.7830, -1.3176,  0.8056,  0.4848,  1.2810,\n",
      "          0.3598, -0.6816],\n",
      "        [ 1.5271,  1.2267,  2.0211,  1.3603, -1.1532,  0.9098, -0.0607, -0.6168,\n",
      "         -0.1043, -0.3228],\n",
      "        [-0.1886,  1.0234,  0.0612,  1.2426,  0.7925, -0.1919, -0.3099,  0.7824,\n",
      "          1.2561,  0.7802]])\n",
      "tensor([0, 1, 0, 0, 0, 0, 1, 1, 1, 1, 1, 1, 0, 1, 0, 1, 0, 0, 1, 1, 1, 1, 1, 1,\n",
      "        0, 0, 1, 0, 0, 1, 0, 1, 1, 1, 1, 0, 1, 1, 1, 0, 0, 1, 0, 1, 1, 1, 1, 0,\n",
      "        1, 0, 0, 0, 1, 0, 1, 0, 0, 0, 1, 1, 0, 0, 1, 0, 0, 1, 1, 1, 1, 1, 0, 1,\n",
      "        1, 1, 1, 1, 1, 0, 0, 1, 1, 0, 1, 1, 1, 0, 1, 1, 1, 0, 1, 0, 1, 0, 1, 0,\n",
      "        0, 1, 1, 1])\n",
      "torch.Size([32, 10]) torch.Size([32])\n",
      "torch.Size([32, 10]) torch.Size([32])\n",
      "torch.Size([32, 10]) torch.Size([32])\n",
      "torch.Size([4, 10]) torch.Size([4])\n"
     ]
    }
   ],
   "source": [
    "# 基本用法\n",
    "import torch\n",
    "from torch.utils.data import TensorDataset, DataLoader\n",
    "\n",
    "# 创建 TensorDataset\n",
    "x = torch.randn(100, 10)  # 100个样本，每个样本10个特征\n",
    "y = torch.randint(0, 2, (100,))  # 100个标签\n",
    "\n",
    "dataset = TensorDataset(x, y)  # 将特征和标签组合\n",
    "\n",
    "# 使用 DataLoader 加载数据\n",
    "dataloader = DataLoader(dataset, batch_size=32, shuffle=True)\n",
    "print(x[:5,:])\n",
    "print(y)\n",
    "# 遍历数据\n",
    "for batch_x, batch_y in dataloader:\n",
    "    print(batch_x.shape, batch_y.shape)"
   ]
  },
  {
   "cell_type": "code",
   "execution_count": null,
   "metadata": {},
   "outputs": [],
   "source": [
    "dataloaderTwo = DataLoader(dataset , batch_size=2 , shuffle=True)\n",
    "for i , data in enumerate(dataloaderTwo):\n",
    "    print(i)\n",
    "    print(data[0].shape)"
   ]
  },
  {
   "cell_type": "code",
   "execution_count": 42,
   "metadata": {},
   "outputs": [],
   "source": [
    "from torch.utils.data import Dataset\n",
    "class subDataset(Dataset):\n",
    "    # 初始化\n",
    "    def __init__(self , Data , Label):\n",
    "        self.Data = Data\n",
    "        self.Label = Label\n",
    "    # 返回数据集的大小\n",
    "    def __len__(self):\n",
    "        return len(self.Data)\n",
    "    # 得到数据内容和标签\n",
    "    def __getitem__(self , index):\n",
    "        data = torch.Tensor(self.Data[index])\n",
    "        label = torch.Tensor(self.Label[index])\n",
    "        return data , label "
   ]
  },
  {
   "cell_type": "code",
   "execution_count": 49,
   "metadata": {},
   "outputs": [
    {
     "name": "stdout",
     "output_type": "stream",
     "text": [
      "Batch Data Shape: torch.Size([2, 10])\n",
      "Batch Label Shape: torch.Size([2])\n",
      "Single Data: tensor([0.2061, 0.4720, 0.7913, 0.7656, 0.1922, 0.1079, 0.3168, 0.6801, 0.7886,\n",
      "        0.2130]) and Single Label: 1\n"
     ]
    }
   ],
   "source": [
    "import numpy as np\n",
    "import torch\n",
    "from torch.utils.data import Dataset, DataLoader\n",
    "\n",
    "# 1. 生成随机数据\n",
    "X = np.random.rand(100, 10)     # 100个样本，每个样本10个特征\n",
    "y = np.random.randint(0, 2, 100)  # 100个二分类标签\n",
    "\n",
    "# 2. 创建自定义数据集\n",
    "class subDataset(Dataset):\n",
    "    def __init__(self, Data, Label):\n",
    "        self.Data = torch.FloatTensor(Data)   # 转换为 FloatTensor\n",
    "        self.Label = torch.LongTensor(Label)  # 转换为 LongTensor\n",
    "\n",
    "    def __len__(self):\n",
    "        return len(self.Data)\n",
    "\n",
    "    def __getitem__(self, index):\n",
    "        return self.Data[index], self.Label[index]\n",
    "\n",
    "# 3. 实例化数据集\n",
    "dataset = subDataset(X, y)\n",
    "\n",
    "# 4. 创建 DataLoader\n",
    "dataloader = DataLoader(\n",
    "    dataset, \n",
    "    batch_size=2,   # 每批次2个样本\n",
    "    shuffle=True    # 随机打乱数据\n",
    ")\n",
    "\n",
    "# 5. 遍历数据\n",
    "for i, (batch_data, batch_labels) in enumerate(dataloader):\n",
    "    print('Batch Data Shape:', batch_data.shape)\n",
    "    print('Batch Label Shape:', batch_labels.shape)\n",
    "    break  # 只打印第一个批次\n",
    "\n",
    "# 6. 访问单个样本\n",
    "single_data, single_label = dataset[0]\n",
    "print(\"Single Data: {} and Single Label: {}\".format(single_data, single_label))"
   ]
  },
  {
   "cell_type": "markdown",
   "metadata": {},
   "source": [
    "### 矩阵乘法"
   ]
  },
  {
   "cell_type": "code",
   "execution_count": 53,
   "metadata": {},
   "outputs": [
    {
     "data": {
      "text/plain": [
       "tensor([0.5010, 0.2619, 0.3202, 0.9386, 0.4991, 0.5295, 0.3151, 0.4762, 0.4499,\n",
       "        0.6920, 0.6998, 0.2091])"
      ]
     },
     "execution_count": 53,
     "metadata": {},
     "output_type": "execute_result"
    }
   ],
   "source": [
    "a = torch.rand(2,3)\n",
    "b = torch.rand(3,4)\n",
    "# 将b展开成一阶张量\n",
    "b.view(-1)"
   ]
  },
  {
   "cell_type": "code",
   "execution_count": 55,
   "metadata": {},
   "outputs": [
    {
     "data": {
      "text/plain": [
       "tensor([[0.8536, 1.3161],\n",
       "        [0.9215, 1.3676],\n",
       "        [0.8655, 1.2263],\n",
       "        [0.9017, 1.4428]])"
      ]
     },
     "execution_count": 55,
     "metadata": {},
     "output_type": "execute_result"
    }
   ],
   "source": [
    "c = torch.matmul(a,b)\n",
    "c.T"
   ]
  },
  {
   "cell_type": "code",
   "execution_count": null,
   "metadata": {},
   "outputs": [],
   "source": []
  }
 ],
 "metadata": {
  "kernelspec": {
   "display_name": "base",
   "language": "python",
   "name": "python3"
  },
  "language_info": {
   "codemirror_mode": {
    "name": "ipython",
    "version": 3
   },
   "file_extension": ".py",
   "mimetype": "text/x-python",
   "name": "python",
   "nbconvert_exporter": "python",
   "pygments_lexer": "ipython3",
   "version": "3.9.13"
  }
 },
 "nbformat": 4,
 "nbformat_minor": 2
}
